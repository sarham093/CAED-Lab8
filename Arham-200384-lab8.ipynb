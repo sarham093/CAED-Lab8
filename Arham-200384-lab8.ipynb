{
 "cells": [
  {
   "cell_type": "code",
   "execution_count": null,
   "id": "b48da9a9",
   "metadata": {},
   "outputs": [],
   "source": [
    "# Task 2\n",
    "List=[5,20,15,20,25,50,20]\n",
    "print(List)\n",
    "for i in List:\n",
    "    if i == 20:\n",
    "        List.remove(20)\n",
    "print(\"After removing 20,list becomes\")\n",
    "print(List)\n"
   ]
  },
  {
   "cell_type": "code",
   "execution_count": null,
   "id": "20dc76af",
   "metadata": {},
   "outputs": [],
   "source": [
    "# Task 3\n",
    "List = [5,20,15,20,25,50,20]\n",
    "print(List)\n",
    "List[1] = 200\n",
    "print(\"After updation,list becomes\")\n",
    "print(List)"
   ]
  },
  {
   "cell_type": "code",
   "execution_count": null,
   "id": "16af434b",
   "metadata": {},
   "outputs": [],
   "source": [
    "# Task 4\n",
    "tup = (1,2,2,1)\n",
    "print(tup)\n",
    "x = tup[0]\n",
    "flag = True\n",
    "for i in tup:\n",
    "    if x != i:\n",
    "        flag = False\n",
    "        break\n",
    "if(flag == True):\n",
    "    print(\"All elements of the tuple are Equal\")\n",
    "else:\n",
    "    print(\"Elements of the tuple are NOT equal\")"
   ]
  },
  {
   "cell_type": "code",
   "execution_count": null,
   "id": "d8f7a3bc",
   "metadata": {},
   "outputs": [],
   "source": [
    "# Task 5\n",
    "for i in range(1,41):\n",
    "        if i%4 == 0 and i%5 != 0:\n",
    "            print(\"Mohammad\",end=\" \")\n",
    "        elif i%5 == 0 and i%10 == 0 and i%4 != 0:\n",
    "            print(\"Arham\")\n",
    "        elif i%5 == 0 and i%10 != 0 and i%4 != 0:\n",
    "            print(\"Arham\",end=\" \")\n",
    "        elif i%4 == 0 and i%5 == 0:\n",
    "            print(\"200384\")\n",
    "        else:\n",
    "            print(i,end=\" \")\n"
   ]
  },
  {
   "cell_type": "code",
   "execution_count": null,
   "id": "6ce4ca2d",
   "metadata": {},
   "outputs": [],
   "source": [
    "# Task 1\n",
    "bill = input(\"Enter billing amount(in dollars) : \")\n",
    "bill = int(bill)\n",
    "\n",
    "payment = input(\"Enter payment amount(in dollars) : \")\n",
    "payment = int(payment)\n",
    "\n",
    "if payment == bill or payment > bill:\n",
    "\n",
    "    credit = bill * 0.01\n",
    "    if credit > 10:\n",
    "        credit = 10\n",
    "    balance = payment - bill\n",
    "\n",
    "    print(\"Credit : $\",credit)\n",
    "    print(\"Remaining balance : $\",balance)\n",
    "    \n",
    "else:\n",
    "        balance = bill - payment\n",
    "        if payment == bill / 2:\n",
    "            penalty = balance * 0.05\n",
    "            print(\"Credit : $\"+str(0.00))\n",
    "            print(\"Penalty : $\",penalty)\n",
    "\n",
    "        elif payment < bill / 2  or payment >= bill / 5:\n",
    "            penalty = balance * 0.1\n",
    "            print(\"Credit : $\"+str(0.00))\n",
    "            print(\"Penalty : $\",penalty)\n",
    "        else:\n",
    "            penalty = balance * 0.2\n",
    "            print(\"Credit : $\"+str(0.00))\n",
    "            print(\"Penalty : $\",penalty)"
   ]
  }
 ],
 "metadata": {
  "kernelspec": {
   "display_name": "Python 3 (ipykernel)",
   "language": "python",
   "name": "python3"
  },
  "language_info": {
   "codemirror_mode": {
    "name": "ipython",
    "version": 3
   },
   "file_extension": ".py",
   "mimetype": "text/x-python",
   "name": "python",
   "nbconvert_exporter": "python",
   "pygments_lexer": "ipython3",
   "version": "3.9.7"
  }
 },
 "nbformat": 4,
 "nbformat_minor": 5
}
